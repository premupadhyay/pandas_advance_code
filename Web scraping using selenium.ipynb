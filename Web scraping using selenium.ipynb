{
 "cells": [
  {
   "cell_type": "code",
   "execution_count": 20,
   "id": "85dcf270",
   "metadata": {},
   "outputs": [
    {
     "name": "stdout",
     "output_type": "stream",
     "text": [
      "-------This is post for---------  2022\n",
      "Test Automation Summit Berlin\n",
      "Removing Legacy Protocol Support\n",
      "Locate Your Locators\n",
      "IE Mode in Edge supported by IEDriver\n",
      "-------This is post for---------  2021\n",
      "Improving & refining our Docs translations\n",
      "Stepping Down, Stepping Up\n",
      "Announcing Selenium 4\n",
      "A Tour of 4: New Commands\n",
      "A Tour of 4: Authentication\n",
      "Selenium 4 Release Candidate 2\n",
      "Selenium 4 Release Candidate\n",
      "All Selenium downloads are now available on GitHub releases\n",
      "Selenium downloads will move to GitHub releases\n",
      "The Selenium website has a new look!\n",
      "-------This is post for---------  2020\n",
      "New Tricks in Selenium 4\n",
      "Public Project Meeting - December 03, 2020\n",
      "Public Project Meeting - November 19, 2020\n",
      "What’s Coming in Selenium 4: Why The Major Version Bump?\n",
      "What’s Coming in Selenium 4: How Can I Contribute?\n",
      "Browser Testing and Tools WG Meeting @ TPAC 2020\n",
      "Public Project Meeting - October 08, 2020\n",
      "SeleniumConf Virtual 2020 Recap\n",
      "Public Project Meeting - September 24, 2020\n",
      "How to delete your master branch\n",
      "-------This is post for---------  2019\n",
      "SeleniumConf London 2019 Videos and Pictures\n"
     ]
    }
   ],
   "source": [
    "from selenium import webdriver\n",
    "browser = webdriver.Chrome(r\"\")\n",
    "browser.get('https://www.selenium.dev/blog/')\n",
    "data=browser.find_elements('xpath','//ul[@class=\"ul-1\"]/li')\n",
    "for i in range(1,len(data)+1):\n",
    "    browser.find_element('xpath','//ul[@class=\"ul-1\"]/li['+str(i)+']/a/span').click()\n",
    "    \n",
    "    year=browser.find_element('xpath','//ul[@class=\"ul-1\"]/li['+str(i)+']/a/span').text\n",
    "    \n",
    "    data2=browser.find_elements('xpath','//ul[@class=\"list-unstyled mt-4\"]//li//h5//a')\n",
    "    print(\"-------This is post for--------- \",year)\n",
    "    for j in range(1,len(data2)+1):\n",
    "        \n",
    "        text=browser.find_element('xpath','//ul[@class=\"list-unstyled mt-4\"]//li['+str(j)+']//h5//a').text\n",
    "        \n",
    "        print(text)\n",
    "        "
   ]
  },
  {
   "cell_type": "code",
   "execution_count": null,
   "id": "743f150d",
   "metadata": {},
   "outputs": [],
   "source": []
  },
  {
   "cell_type": "code",
   "execution_count": null,
   "id": "66c1ed31",
   "metadata": {},
   "outputs": [],
   "source": []
  },
  {
   "cell_type": "code",
   "execution_count": null,
   "id": "cdcce955",
   "metadata": {},
   "outputs": [],
   "source": []
  }
 ],
 "metadata": {
  "kernelspec": {
   "display_name": "Python 3 (ipykernel)",
   "language": "python",
   "name": "python3"
  },
  "language_info": {
   "codemirror_mode": {
    "name": "ipython",
    "version": 3
   },
   "file_extension": ".py",
   "mimetype": "text/x-python",
   "name": "python",
   "nbconvert_exporter": "python",
   "pygments_lexer": "ipython3",
   "version": "3.9.12"
  }
 },
 "nbformat": 4,
 "nbformat_minor": 5
}
