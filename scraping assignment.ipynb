{
 "cells": [
  {
   "cell_type": "code",
   "execution_count": 1,
   "id": "888c17cf",
   "metadata": {},
   "outputs": [
    {
     "name": "stderr",
     "output_type": "stream",
     "text": [
      "C:\\Users\\Premchandra Upadhyay\\AppData\\Local\\Temp\\ipykernel_1480\\339212109.py:2: DeprecationWarning: executable_path has been deprecated, please pass in a Service object\n",
      "  browser = webdriver.Chrome(r\"C:\\Users\\Premchandra Upadhyay\\Downloads\\chromedriver_win32\\chromedriver.exe\")\n"
     ]
    }
   ],
   "source": [
    "from selenium import webdriver\n",
    "browser = webdriver.Chrome(r\"C:\\Users\\Premchandra Upadhyay\\Downloads\\chromedriver_win32\\chromedriver.exe\")\n",
    "browser.get('https://demo.guru99.com/selenium/newtours/index.php')"
   ]
  },
  {
   "cell_type": "markdown",
   "id": "ae561cd4",
   "metadata": {},
   "source": [
    "# how to create xpath"
   ]
  },
  {
   "cell_type": "code",
   "execution_count": null,
   "id": "cfa3e8d5",
   "metadata": {},
   "outputs": [],
   "source": [
    "# xpath=  //table[@width=\"270\"]//tbody//tr\n",
    "\n",
    "# xpath= //tr[@class=\"mouseOut\"][6]//td[2] "
   ]
  },
  {
   "cell_type": "code",
   "execution_count": 2,
   "id": "22a3474c",
   "metadata": {},
   "outputs": [],
   "source": [
    "data=browser.find_elements('xpath','//table[@width=\"270\"]//tbody//tr')"
   ]
  },
  {
   "cell_type": "code",
   "execution_count": 3,
   "id": "95c33552",
   "metadata": {},
   "outputs": [
    {
     "data": {
      "text/plain": [
       "5"
      ]
     },
     "execution_count": 3,
     "metadata": {},
     "output_type": "execute_result"
    }
   ],
   "source": [
    "len(data)"
   ]
  },
  {
   "cell_type": "code",
   "execution_count": 9,
   "id": "a5b7dfda",
   "metadata": {
    "collapsed": true
   },
   "outputs": [
    {
     "name": "stdout",
     "output_type": "stream",
     "text": [
      "Atlanta to Las Vegas      $398\n",
      "Boston to San Francisco      $513\n",
      "Los Angeles to Chicago      $168\n",
      "New York to Chicago      $198\n",
      "Phoenix to San Francisco      $213\n"
     ]
    }
   ],
   "source": [
    "for tr in range(1,len(data)+1):\n",
    "    row1=browser.find_element('xpath','//table[@width=\"270\"]//tbody//tr['+str(tr)+']//td[1]').text\n",
    "    row2=browser.find_element('xpath','//table[@width=\"270\"]//tbody//tr['+str(tr)+']//td[2]').text\n",
    "    \n",
    "    print(row1 ,\"    \",row2)\n",
    "    "
   ]
  },
  {
   "cell_type": "code",
   "execution_count": 10,
   "id": "c982e5d6",
   "metadata": {},
   "outputs": [],
   "source": [
    "# other way"
   ]
  },
  {
   "cell_type": "code",
   "execution_count": 11,
   "id": "427d378d",
   "metadata": {},
   "outputs": [],
   "source": [
    "import pandas as pd\n",
    "\n",
    "table_MN = pd.read_html('https://demo.guru99.com/selenium/newtours/index.php')"
   ]
  },
  {
   "cell_type": "code",
   "execution_count": 21,
   "id": "3f829786",
   "metadata": {
    "collapsed": true
   },
   "outputs": [
    {
     "name": "stdout",
     "output_type": "stream",
     "text": [
      "                                                   0  \\\n",
      "0  Home Flights Hotels Car Rentals Cruises Destin...   \n",
      "\n",
      "                                                   1  \n",
      "0  SIGN-ON  REGISTER  SUPPORT  CONTACT  Atlanta t...  \n",
      "                                                   0\n",
      "0  Home Flights Hotels Car Rentals Cruises Destin...\n",
      "    0             1\n",
      "0 NaN          Home\n",
      "1 NaN       Flights\n",
      "2 NaN        Hotels\n",
      "3 NaN   Car Rentals\n",
      "4 NaN       Cruises\n",
      "5 NaN  Destinations\n",
      "6 NaN     Vacations\n",
      "                                                   0\n",
      "0                SIGN-ON  REGISTER  SUPPORT  CONTACT\n",
      "1  Atlanta to Las Vegas  $398  Boston to San Fran...\n",
      "2   © 2005, Mercury Interactive (v. 011003-1.01-058)\n",
      "         0         1        2        3\n",
      "0  SIGN-ON  REGISTER  SUPPORT  CONTACT\n",
      "    0                                                  1\n",
      "0 NaN  Atlanta to Las Vegas  $398  Boston to San Fran...\n",
      "                                          Unnamed: 0  Unnamed: 1  \\\n",
      "0  Atlanta to Las Vegas  $398  Boston to San Fran...         NaN   \n",
      "\n",
      "                                          Unnamed: 2  \n",
      "0  Jul 6, 2017  Registered users can sign-in here...  \n",
      "                                                   0\n",
      "0  Atlanta to Las Vegas  $398  Boston to San Fran...\n",
      "                          0     1\n",
      "0      Atlanta to Las Vegas  $398\n",
      "1   Boston to San Francisco  $513\n",
      "2    Los Angeles to Chicago  $168\n",
      "3       New York to Chicago  $198\n",
      "4  Phoenix to San Francisco  $213\n",
      "    0                                                  1\n",
      "0 NaN                                                NaN\n",
      "1 NaN                                                NaN\n",
      "2 NaN  Always carry a travel first aid kit with banda...\n",
      "                                                    0  \\\n",
      "0                                         Jul 6, 2017   \n",
      "1                                                 NaN   \n",
      "2                                                 NaN   \n",
      "3   Registered users can sign-in here to find the ...   \n",
      "4                                                 NaN   \n",
      "5   Find  detailed information about your destinat...   \n",
      "6                                                 NaN   \n",
      "7     Read  about our featured vacation destinations.   \n",
      "8                                                 NaN   \n",
      "9                Register here to join Mercury Tours!   \n",
      "10                                                NaN   \n",
      "11          Business Travel @ About.com  Salon Travel   \n",
      "\n",
      "                                                    1  \n",
      "0                                         Jul 6, 2017  \n",
      "1                                                 NaN  \n",
      "2                                                 NaN  \n",
      "3   Registered users can sign-in here to find the ...  \n",
      "4                                                 NaN  \n",
      "5   Find  detailed information about your destinat...  \n",
      "6                                                 NaN  \n",
      "7     Read  about our featured vacation destinations.  \n",
      "8                                                 NaN  \n",
      "9                Register here to join Mercury Tours!  \n",
      "10                                                NaN  \n",
      "11          Business Travel @ About.com  Salon Travel  \n",
      "                                                   0  \\\n",
      "0  Registered users can sign-in here to find the ...   \n",
      "1                                         User Name:   \n",
      "2                                          Password:   \n",
      "3                                                NaN   \n",
      "4                                                NaN   \n",
      "\n",
      "                                                   1  \n",
      "0  Registered users can sign-in here to find the ...  \n",
      "1                                                NaN  \n",
      "2                                                NaN  \n",
      "3                                                NaN  \n",
      "4                                                NaN  \n",
      "    0                                                  1\n",
      "0 NaN  Find  detailed information about your destinat...\n",
      "    0                                                1\n",
      "0 NaN  Read  about our featured vacation destinations.\n",
      "    0                                     1\n",
      "0 NaN  Register here to join Mercury Tours!\n",
      "                                           0\n",
      "0  Business Travel @ About.com  Salon Travel\n"
     ]
    }
   ],
   "source": [
    "for i in table_MN:\n",
    "    print(i)"
   ]
  },
  {
   "cell_type": "code",
   "execution_count": 22,
   "id": "74ff41f4",
   "metadata": {},
   "outputs": [
    {
     "data": {
      "text/html": [
       "<div>\n",
       "<style scoped>\n",
       "    .dataframe tbody tr th:only-of-type {\n",
       "        vertical-align: middle;\n",
       "    }\n",
       "\n",
       "    .dataframe tbody tr th {\n",
       "        vertical-align: top;\n",
       "    }\n",
       "\n",
       "    .dataframe thead th {\n",
       "        text-align: right;\n",
       "    }\n",
       "</style>\n",
       "<table border=\"1\" class=\"dataframe\">\n",
       "  <thead>\n",
       "    <tr style=\"text-align: right;\">\n",
       "      <th></th>\n",
       "      <th>0</th>\n",
       "      <th>1</th>\n",
       "    </tr>\n",
       "  </thead>\n",
       "  <tbody>\n",
       "    <tr>\n",
       "      <th>0</th>\n",
       "      <td>Atlanta to Las Vegas</td>\n",
       "      <td>$398</td>\n",
       "    </tr>\n",
       "    <tr>\n",
       "      <th>1</th>\n",
       "      <td>Boston to San Francisco</td>\n",
       "      <td>$513</td>\n",
       "    </tr>\n",
       "    <tr>\n",
       "      <th>2</th>\n",
       "      <td>Los Angeles to Chicago</td>\n",
       "      <td>$168</td>\n",
       "    </tr>\n",
       "    <tr>\n",
       "      <th>3</th>\n",
       "      <td>New York to Chicago</td>\n",
       "      <td>$198</td>\n",
       "    </tr>\n",
       "    <tr>\n",
       "      <th>4</th>\n",
       "      <td>Phoenix to San Francisco</td>\n",
       "      <td>$213</td>\n",
       "    </tr>\n",
       "  </tbody>\n",
       "</table>\n",
       "</div>"
      ],
      "text/plain": [
       "                          0     1\n",
       "0      Atlanta to Las Vegas  $398\n",
       "1   Boston to San Francisco  $513\n",
       "2    Los Angeles to Chicago  $168\n",
       "3       New York to Chicago  $198\n",
       "4  Phoenix to San Francisco  $213"
      ]
     },
     "execution_count": 22,
     "metadata": {},
     "output_type": "execute_result"
    }
   ],
   "source": [
    "table_MN[8]"
   ]
  },
  {
   "cell_type": "code",
   "execution_count": null,
   "id": "769bee49",
   "metadata": {},
   "outputs": [],
   "source": [
    "# https://www.bseindia.com/"
   ]
  },
  {
   "cell_type": "code",
   "execution_count": null,
   "id": "11874ee5",
   "metadata": {},
   "outputs": [],
   "source": [
    "from selenium import webdriver\n",
    "browser = webdriver.Chrome(r\"C:\\Users\\Premchandra Upadhyay\\Downloads\\chromedriver_win32\\chromedriver.exe\")\n",
    "browser.get('https://demo.guru99.com/selenium/newtours/index.php')"
   ]
  },
  {
   "cell_type": "code",
   "execution_count": null,
   "id": "85c722c5",
   "metadata": {},
   "outputs": [],
   "source": [
    "for i in range(2,len(elem)+1):\n",
    "    t = driver.find_element('xpath','//div[@class=\"tab-pane largetable active\"]['+str(i)+']//table//tbody[@class=\"ng-scope\"]')\n",
    "    print(t.text)\n"
   ]
  },
  {
   "cell_type": "code",
   "execution_count": null,
   "id": "3967ddc2",
   "metadata": {},
   "outputs": [],
   "source": []
  }
 ],
 "metadata": {
  "kernelspec": {
   "display_name": "Python 3 (ipykernel)",
   "language": "python",
   "name": "python3"
  },
  "language_info": {
   "codemirror_mode": {
    "name": "ipython",
    "version": 3
   },
   "file_extension": ".py",
   "mimetype": "text/x-python",
   "name": "python",
   "nbconvert_exporter": "python",
   "pygments_lexer": "ipython3",
   "version": "3.9.12"
  }
 },
 "nbformat": 4,
 "nbformat_minor": 5
}
