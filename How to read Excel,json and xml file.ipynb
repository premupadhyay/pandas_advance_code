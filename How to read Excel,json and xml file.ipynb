{
 "cells": [
  {
   "cell_type": "code",
   "execution_count": 1,
   "id": "19d70a08",
   "metadata": {},
   "outputs": [],
   "source": [
    "import pandas as pd"
   ]
  },
  {
   "cell_type": "code",
   "execution_count": 2,
   "id": "03cc6370",
   "metadata": {},
   "outputs": [
    {
     "data": {
      "text/plain": [
       "{'Name': {'0': [1, 2, 3, 4], '1': 'Nick', '2': 'Ali', '3': 'Joseph'},\n",
       " 'Gender': {'0': 'Male', '1': 'Male', '2': 'Female', '3': 'Male'},\n",
       " 'Nationality': {'0': 'UK', '1': 'French', '2': 'USA', '3': 'Brazil'},\n",
       " 'Age': {'0': 10, '1': 25, '2': 35, '3': 29}}"
      ]
     },
     "execution_count": 2,
     "metadata": {},
     "output_type": "execute_result"
    }
   ],
   "source": [
    "{\n",
    "         \"Name\":{\"0\":[1,2,3,4],\"1\":\"Nick\",\"2\":\"Ali\",\"3\":\"Joseph\"},\n",
    "         \"Gender\":{\"0\":\"Male\",\"1\":\"Male\",\"2\":\"Female\",\"3\":\"Male\"},\n",
    "         \"Nationality\":{\"0\":\"UK\",\"1\":\"French\",\"2\":\"USA\",\"3\":\"Brazil\"},\n",
    "         \"Age\" :{\"0\":10,\"1\":25,\"2\":35,\"3\":29}\n",
    "}"
   ]
  },
  {
   "cell_type": "code",
   "execution_count": 8,
   "id": "e611826d",
   "metadata": {},
   "outputs": [],
   "source": [
    "dt={\n",
    "         \"Name\":{\"0\":[1,2,3,4],\"1\":\"Nick\",\"2\":\"Ali\",\"3\":\"Joseph\"},\n",
    "         \"Gender\":{\"0\":\"Male\",\"1\":\"Male\",\"2\":\"Female\",\"3\":\"Male\"},\n",
    "         \"Nationality\":{\"0\":\"UK\",\"1\":\"French\",\"2\":\"USA\",\"3\":\"Brazil\"},\n",
    "         \"Age\" :{\"0\":10,\"1\":25,\"2\":35,\"3\":29}\n",
    "}"
   ]
  },
  {
   "cell_type": "code",
   "execution_count": 11,
   "id": "1c4f92bc",
   "metadata": {},
   "outputs": [
    {
     "data": {
      "text/plain": [
       "'Nick'"
      ]
     },
     "execution_count": 11,
     "metadata": {},
     "output_type": "execute_result"
    }
   ],
   "source": [
    "dt['Name']['1']"
   ]
  },
  {
   "cell_type": "code",
   "execution_count": 6,
   "id": "b823b1e3",
   "metadata": {},
   "outputs": [],
   "source": [
    "df=pd.read_json(r\"C:\\Users\\Premchandra Upadhyay\\Desktop\\text.json\")"
   ]
  },
  {
   "cell_type": "code",
   "execution_count": 7,
   "id": "f550a2d5",
   "metadata": {},
   "outputs": [
    {
     "data": {
      "text/html": [
       "<div>\n",
       "<style scoped>\n",
       "    .dataframe tbody tr th:only-of-type {\n",
       "        vertical-align: middle;\n",
       "    }\n",
       "\n",
       "    .dataframe tbody tr th {\n",
       "        vertical-align: top;\n",
       "    }\n",
       "\n",
       "    .dataframe thead th {\n",
       "        text-align: right;\n",
       "    }\n",
       "</style>\n",
       "<table border=\"1\" class=\"dataframe\">\n",
       "  <thead>\n",
       "    <tr style=\"text-align: right;\">\n",
       "      <th></th>\n",
       "      <th>Name</th>\n",
       "      <th>Gender</th>\n",
       "      <th>Nationality</th>\n",
       "      <th>Age</th>\n",
       "    </tr>\n",
       "  </thead>\n",
       "  <tbody>\n",
       "    <tr>\n",
       "      <th>0</th>\n",
       "      <td>[1, 2, 3, 4]</td>\n",
       "      <td>Male</td>\n",
       "      <td>UK</td>\n",
       "      <td>10</td>\n",
       "    </tr>\n",
       "    <tr>\n",
       "      <th>1</th>\n",
       "      <td>Nick</td>\n",
       "      <td>Male</td>\n",
       "      <td>French</td>\n",
       "      <td>25</td>\n",
       "    </tr>\n",
       "    <tr>\n",
       "      <th>2</th>\n",
       "      <td>Ali</td>\n",
       "      <td>Female</td>\n",
       "      <td>USA</td>\n",
       "      <td>35</td>\n",
       "    </tr>\n",
       "    <tr>\n",
       "      <th>3</th>\n",
       "      <td>Joseph</td>\n",
       "      <td>Male</td>\n",
       "      <td>Brazil</td>\n",
       "      <td>29</td>\n",
       "    </tr>\n",
       "  </tbody>\n",
       "</table>\n",
       "</div>"
      ],
      "text/plain": [
       "           Name  Gender Nationality  Age\n",
       "0  [1, 2, 3, 4]    Male          UK   10\n",
       "1          Nick    Male      French   25\n",
       "2           Ali  Female         USA   35\n",
       "3        Joseph    Male      Brazil   29"
      ]
     },
     "execution_count": 7,
     "metadata": {},
     "output_type": "execute_result"
    }
   ],
   "source": [
    "df"
   ]
  },
  {
   "cell_type": "code",
   "execution_count": null,
   "id": "8bf4f54a",
   "metadata": {},
   "outputs": [],
   "source": [
    "<?xml version='1.0' encoding='utf-8'?>\n",
    "<data xmlns=\"http://example.com\">\n",
    " <row>\n",
    "   <shape>square</shape>\n",
    "   <degrees>360</degrees>\n",
    "   <sides>4.0</sides>\n",
    " </row>\n",
    " <row>\n",
    "   <shape>circle</shape>\n",
    "   <degrees>360</degrees>\n",
    "   <sides/>\n",
    " </row>\n",
    " <row>\n",
    "   <shape>triangle</shape>\n",
    "   <degrees>180</degrees>\n",
    "   <sides>3.0</sides>\n",
    " </row>\n",
    "</data>"
   ]
  },
  {
   "cell_type": "code",
   "execution_count": 49,
   "id": "2b409c59",
   "metadata": {},
   "outputs": [],
   "source": [
    "import pandas as pd\n",
    "import xml.etree.ElementTree as et"
   ]
  },
  {
   "cell_type": "code",
   "execution_count": 70,
   "id": "16a4d235",
   "metadata": {
    "collapsed": true
   },
   "outputs": [
    {
     "ename": "ParseError",
     "evalue": "not well-formed (invalid token): line 97, column 21 (<string>)",
     "output_type": "error",
     "traceback": [
      "Traceback \u001b[1;36m(most recent call last)\u001b[0m:\n",
      "  File \u001b[0;32m~\\anaconda3\\lib\\site-packages\\IPython\\core\\interactiveshell.py:3369\u001b[0m in \u001b[0;35mrun_code\u001b[0m\n    exec(code_obj, self.user_global_ns, self.user_ns)\n",
      "  Input \u001b[0;32mIn [70]\u001b[0m in \u001b[0;35m<cell line: 1>\u001b[0m\n    xtree=et.parse(r\"C:\\Users\\Premchandra Upadhyay\\Desktop\\s1.xml\")\n",
      "  File \u001b[0;32m~\\anaconda3\\lib\\xml\\etree\\ElementTree.py:1229\u001b[0m in \u001b[0;35mparse\u001b[0m\n    tree.parse(source, parser)\n",
      "\u001b[1;36m  File \u001b[1;32m~\\anaconda3\\lib\\xml\\etree\\ElementTree.py:580\u001b[1;36m in \u001b[1;35mparse\u001b[1;36m\u001b[0m\n\u001b[1;33m    self._root = parser._parse_whole(source)\u001b[0m\n",
      "\u001b[1;36m  File \u001b[1;32m<string>\u001b[1;36m\u001b[0m\n\u001b[1;31mParseError\u001b[0m\u001b[1;31m:\u001b[0m not well-formed (invalid token): line 97, column 21\n"
     ]
    }
   ],
   "source": [
    "xtree=et.parse(r\"C:\\Users\\Premchandra Upadhyay\\Desktop\\s1.xml\")"
   ]
  },
  {
   "cell_type": "code",
   "execution_count": 62,
   "id": "ed434df2",
   "metadata": {},
   "outputs": [],
   "source": [
    "xroot=xtree.getroot()"
   ]
  },
  {
   "cell_type": "code",
   "execution_count": 63,
   "id": "0a45c72c",
   "metadata": {},
   "outputs": [
    {
     "data": {
      "text/plain": [
       "<Element '{http://example.com}data' at 0x000002BB2569AB30>"
      ]
     },
     "execution_count": 63,
     "metadata": {},
     "output_type": "execute_result"
    }
   ],
   "source": [
    "xroot"
   ]
  },
  {
   "cell_type": "code",
   "execution_count": 64,
   "id": "0125259d",
   "metadata": {},
   "outputs": [],
   "source": [
    "df_cols=['shape','degrees','sides']"
   ]
  },
  {
   "cell_type": "code",
   "execution_count": 65,
   "id": "5a64f033",
   "metadata": {},
   "outputs": [
    {
     "data": {
      "text/plain": [
       "[]"
      ]
     },
     "execution_count": 65,
     "metadata": {},
     "output_type": "execute_result"
    }
   ],
   "source": [
    " xroot.findall('square')"
   ]
  },
  {
   "cell_type": "code",
   "execution_count": 69,
   "id": "6ee47559",
   "metadata": {},
   "outputs": [
    {
     "name": "stdout",
     "output_type": "stream",
     "text": [
      "Hi\n",
      "{http://example.com}row {}\n",
      "Hi\n",
      "{http://example.com}row {}\n",
      "Hi\n",
      "{http://example.com}row {}\n"
     ]
    }
   ],
   "source": [
    "for node in xroot :\n",
    "    print(\"Hi\")\n",
    "    print(node.tag,node.attrib)"
   ]
  },
  {
   "cell_type": "code",
   "execution_count": 57,
   "id": "fd47bd5b",
   "metadata": {},
   "outputs": [],
   "source": [
    "df=pd.read_xml(r\"C:\\Users\\Premchandra Upadhyay\\Desktop\\data.xml\")"
   ]
  },
  {
   "cell_type": "code",
   "execution_count": 58,
   "id": "8e023ef1",
   "metadata": {},
   "outputs": [
    {
     "data": {
      "text/html": [
       "<div>\n",
       "<style scoped>\n",
       "    .dataframe tbody tr th:only-of-type {\n",
       "        vertical-align: middle;\n",
       "    }\n",
       "\n",
       "    .dataframe tbody tr th {\n",
       "        vertical-align: top;\n",
       "    }\n",
       "\n",
       "    .dataframe thead th {\n",
       "        text-align: right;\n",
       "    }\n",
       "</style>\n",
       "<table border=\"1\" class=\"dataframe\">\n",
       "  <thead>\n",
       "    <tr style=\"text-align: right;\">\n",
       "      <th></th>\n",
       "      <th>shape</th>\n",
       "      <th>degrees</th>\n",
       "      <th>sides</th>\n",
       "    </tr>\n",
       "  </thead>\n",
       "  <tbody>\n",
       "    <tr>\n",
       "      <th>0</th>\n",
       "      <td>square</td>\n",
       "      <td>360</td>\n",
       "      <td>4.0</td>\n",
       "    </tr>\n",
       "    <tr>\n",
       "      <th>1</th>\n",
       "      <td>circle</td>\n",
       "      <td>360</td>\n",
       "      <td>NaN</td>\n",
       "    </tr>\n",
       "    <tr>\n",
       "      <th>2</th>\n",
       "      <td>triangle</td>\n",
       "      <td>180</td>\n",
       "      <td>3.0</td>\n",
       "    </tr>\n",
       "  </tbody>\n",
       "</table>\n",
       "</div>"
      ],
      "text/plain": [
       "      shape  degrees  sides\n",
       "0    square      360    4.0\n",
       "1    circle      360    NaN\n",
       "2  triangle      180    3.0"
      ]
     },
     "execution_count": 58,
     "metadata": {},
     "output_type": "execute_result"
    }
   ],
   "source": [
    "df"
   ]
  },
  {
   "cell_type": "code",
   "execution_count": null,
   "id": "543c2cad",
   "metadata": {},
   "outputs": [],
   "source": [
    "excel\n",
    "table(database)\n",
    "API  (Post man/swagger)\n",
    "json\n",
    "web(web scraping)\n",
    "pdf\n",
    "image"
   ]
  },
  {
   "cell_type": "code",
   "execution_count": null,
   "id": "a95f7a90",
   "metadata": {},
   "outputs": [],
   "source": []
  },
  {
   "cell_type": "code",
   "execution_count": null,
   "id": "6d2dd06e",
   "metadata": {},
   "outputs": [],
   "source": []
  }
 ],
 "metadata": {
  "kernelspec": {
   "display_name": "Python 3 (ipykernel)",
   "language": "python",
   "name": "python3"
  },
  "language_info": {
   "codemirror_mode": {
    "name": "ipython",
    "version": 3
   },
   "file_extension": ".py",
   "mimetype": "text/x-python",
   "name": "python",
   "nbconvert_exporter": "python",
   "pygments_lexer": "ipython3",
   "version": "3.9.12"
  }
 },
 "nbformat": 4,
 "nbformat_minor": 5
}
