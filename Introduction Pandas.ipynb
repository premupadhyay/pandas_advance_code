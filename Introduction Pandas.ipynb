{
 "cells": [
  {
   "cell_type": "code",
   "execution_count": null,
   "id": "da2c90dd",
   "metadata": {},
   "outputs": [],
   "source": [
    "# Pandas is open-source python Library providing high performance data manipulation and \n",
    "#analysis tool using its powerful data structures "
   ]
  },
  {
   "cell_type": "code",
   "execution_count": null,
   "id": "783aa0c5",
   "metadata": {},
   "outputs": [],
   "source": [
    "#Application for pandas\n",
    "#1. Fast and efficient dataframe object with default and customized indexing\n",
    "#2. Tools for loading data into in-memory data object from diffrent file formats\n",
    "#3. missing data handling and data type hadning\n",
    "#4. Reshaping and pivoting data(report)\n",
    "#5. Labed based slicing and indexing and subseeting of large data set\n",
    "#6. Group by data for aggregation and tranformations\n",
    "#7. High permonace merging,append,contact and joining of data"
   ]
  },
  {
   "cell_type": "code",
   "execution_count": null,
   "id": "0bf3e77a",
   "metadata": {},
   "outputs": [],
   "source": [
    "# Types of data strucure use by pandas \n",
    "#1. Series  -- 1d array    ---10%\n",
    "#2. DataFrame  -- 2d array --90%  -->excel,database,json(web),yml,xml,csv..ect\n",
    "#3. Panel  --  3d array "
   ]
  },
  {
   "cell_type": "code",
   "execution_count": null,
   "id": "d5cb5102",
   "metadata": {},
   "outputs": [],
   "source": [
    "# Series is a one dimensional array like structure with homogeneous data .\n",
    "\n",
    "# for example following series is a collection [10,23,56,17,52,61,73]\n",
    "\n",
    "# Homogeneous\n",
    "# Size immutable\n",
    "# Value and Data mutable"
   ]
  },
  {
   "cell_type": "code",
   "execution_count": null,
   "id": "8956d223",
   "metadata": {},
   "outputs": [],
   "source": [
    "# Error :- No modlue name pandas"
   ]
  },
  {
   "cell_type": "code",
   "execution_count": null,
   "id": "e3f9c965",
   "metadata": {},
   "outputs": [],
   "source": [
    "#! pip install pandas  for any library installation in jupyter  notebook"
   ]
  },
  {
   "cell_type": "code",
   "execution_count": null,
   "id": "0d12b55e",
   "metadata": {},
   "outputs": [],
   "source": [
    "#! pip install pandas"
   ]
  },
  {
   "cell_type": "code",
   "execution_count": 1,
   "id": "c0490b26",
   "metadata": {},
   "outputs": [],
   "source": [
    "import pandas as pd"
   ]
  },
  {
   "cell_type": "code",
   "execution_count": 2,
   "id": "9479a6a1",
   "metadata": {},
   "outputs": [
    {
     "name": "stdout",
     "output_type": "stream",
     "text": [
      "<class 'pandas.core.series.Series'>\n"
     ]
    }
   ],
   "source": [
    "sr=pd.Series([10,20,30,40,50,60,])\n",
    "print(type(sr))"
   ]
  },
  {
   "cell_type": "code",
   "execution_count": 4,
   "id": "49a7bbfc",
   "metadata": {
    "collapsed": true
   },
   "outputs": [
    {
     "data": {
      "text/plain": [
       "0    10\n",
       "1    20\n",
       "2    30\n",
       "3    40\n",
       "4    50\n",
       "5    60\n",
       "dtype: int64"
      ]
     },
     "execution_count": 4,
     "metadata": {},
     "output_type": "execute_result"
    }
   ],
   "source": [
    "sr"
   ]
  },
  {
   "cell_type": "code",
   "execution_count": 3,
   "id": "0c31f1f2",
   "metadata": {},
   "outputs": [
    {
     "data": {
      "text/plain": [
       "0      a\n",
       "1    123\n",
       "2      c\n",
       "3      d\n",
       "dtype: object"
      ]
     },
     "execution_count": 3,
     "metadata": {},
     "output_type": "execute_result"
    }
   ],
   "source": [
    "import numpy as np\n",
    "data=np.array(['a',123,'c','d'])\n",
    "s=pd.Series(data)\n",
    "s"
   ]
  },
  {
   "cell_type": "code",
   "execution_count": 7,
   "id": "2ecf3881",
   "metadata": {},
   "outputs": [
    {
     "data": {
      "text/plain": [
       "A    a\n",
       "B    b\n",
       "C    c\n",
       "D    d\n",
       "dtype: object"
      ]
     },
     "execution_count": 7,
     "metadata": {},
     "output_type": "execute_result"
    }
   ],
   "source": [
    "import numpy as np\n",
    "data=np.array(['a','b','c','d'])\n",
    "s=pd.Series(data,index=['A','B','C','D'])\n",
    "s"
   ]
  },
  {
   "cell_type": "code",
   "execution_count": null,
   "id": "e19c97db",
   "metadata": {},
   "outputs": [],
   "source": [
    "# dict to series"
   ]
  },
  {
   "cell_type": "code",
   "execution_count": 9,
   "id": "009820cf",
   "metadata": {},
   "outputs": [],
   "source": [
    "data={'a':0,'b':1,'c':2}\n",
    "s=pd.Series(data.keys())"
   ]
  },
  {
   "cell_type": "code",
   "execution_count": 10,
   "id": "0d0fe0d9",
   "metadata": {},
   "outputs": [
    {
     "data": {
      "text/plain": [
       "0    a\n",
       "1    b\n",
       "2    c\n",
       "dtype: object"
      ]
     },
     "execution_count": 10,
     "metadata": {},
     "output_type": "execute_result"
    }
   ],
   "source": [
    "s"
   ]
  },
  {
   "cell_type": "code",
   "execution_count": 12,
   "id": "55f62b50",
   "metadata": {},
   "outputs": [
    {
     "data": {
      "text/plain": [
       "0    0\n",
       "1    1\n",
       "2    2\n",
       "dtype: int64"
      ]
     },
     "execution_count": 12,
     "metadata": {},
     "output_type": "execute_result"
    }
   ],
   "source": [
    "data={'a':0,'b':1,'c':2}\n",
    "s=pd.Series(data.values())\n",
    "s"
   ]
  },
  {
   "cell_type": "code",
   "execution_count": null,
   "id": "8c4d3ba8",
   "metadata": {},
   "outputs": [],
   "source": [
    "# database,ERP  (row,columns)    ------>  BA + ETL(pandas,Numpy,ETL pipleline) --->  RDS (reporting database)  ----> Data,DL,ML\n",
    "\n",
    "# excel,csv,json,xml\n",
    "\n",
    "# log,pdf,video,voice,images (NLP)"
   ]
  },
  {
   "cell_type": "code",
   "execution_count": null,
   "id": "e2b2370e",
   "metadata": {},
   "outputs": [],
   "source": [
    "1,0\n",
    "Yes,No\n",
    "True,False"
   ]
  },
  {
   "cell_type": "code",
   "execution_count": 1,
   "id": "ccb067e8",
   "metadata": {},
   "outputs": [
    {
     "data": {
      "text/plain": [
       "234"
      ]
     },
     "execution_count": 1,
     "metadata": {},
     "output_type": "execute_result"
    }
   ],
   "source": [
    "234\n",
    "234566\n",
    "324545656787\n",
    "345456767"
   ]
  },
  {
   "cell_type": "code",
   "execution_count": null,
   "id": "38aadc8f",
   "metadata": {},
   "outputs": [],
   "source": []
  },
  {
   "cell_type": "code",
   "execution_count": null,
   "id": "aeeb30f4",
   "metadata": {},
   "outputs": [],
   "source": [
    "fit(input,output)"
   ]
  },
  {
   "cell_type": "code",
   "execution_count": null,
   "id": "d3d4956d",
   "metadata": {},
   "outputs": [],
   "source": [
    "one hot encdoing, label encoder"
   ]
  },
  {
   "cell_type": "code",
   "execution_count": null,
   "id": "c7a3636d",
   "metadata": {},
   "outputs": [],
   "source": [
    "0,1"
   ]
  },
  {
   "cell_type": "code",
   "execution_count": null,
   "id": "ebbc8968",
   "metadata": {},
   "outputs": [],
   "source": [
    "0,1,"
   ]
  },
  {
   "cell_type": "code",
   "execution_count": null,
   "id": "bcd4f0f8",
   "metadata": {},
   "outputs": [],
   "source": []
  },
  {
   "cell_type": "code",
   "execution_count": null,
   "id": "f48f46c0",
   "metadata": {},
   "outputs": [],
   "source": []
  }
 ],
 "metadata": {
  "kernelspec": {
   "display_name": "Python 3 (ipykernel)",
   "language": "python",
   "name": "python3"
  },
  "language_info": {
   "codemirror_mode": {
    "name": "ipython",
    "version": 3
   },
   "file_extension": ".py",
   "mimetype": "text/x-python",
   "name": "python",
   "nbconvert_exporter": "python",
   "pygments_lexer": "ipython3",
   "version": "3.9.12"
  }
 },
 "nbformat": 4,
 "nbformat_minor": 5
}
